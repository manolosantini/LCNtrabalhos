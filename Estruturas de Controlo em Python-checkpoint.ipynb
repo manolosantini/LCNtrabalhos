{
 "cells": [
  {
   "cell_type": "code",
   "execution_count": 2,
   "metadata": {},
   "outputs": [
    {
     "name": "stdout",
     "output_type": "stream",
     "text": [
      "Manuel Santos\n"
     ]
    }
   ],
   "source": [
    "nome=input()"
   ]
  },
  {
   "cell_type": "code",
   "execution_count": 4,
   "metadata": {},
   "outputs": [
    {
     "data": {
      "text/plain": [
       "'MANUEL SANTOS'"
      ]
     },
     "execution_count": 4,
     "metadata": {},
     "output_type": "execute_result"
    }
   ],
   "source": [
    "nome.upper()"
   ]
  },
  {
   "cell_type": "code",
   "execution_count": 5,
   "metadata": {},
   "outputs": [
    {
     "name": "stdout",
     "output_type": "stream",
     "text": [
      "2001\n",
      "Você tem 19 anos.\n"
     ]
    }
   ],
   "source": [
    "from datetime import date\n",
    "ano_atual = date.today().year\n",
    "\n",
    "ano_nascimento = input()\n",
    "print(\"Você tem {} anos.\".format(ano_atual - int(ano_nascimento) ))"
   ]
  },
  {
   "cell_type": "code",
   "execution_count": 6,
   "metadata": {},
   "outputs": [
    {
     "name": "stdout",
     "output_type": "stream",
     "text": [
      "This sucks\n",
      "skcus sihT\n"
     ]
    }
   ],
   "source": [
    "palavra = input()\n",
    "print(palavra[::-1])"
   ]
  },
  {
   "cell_type": "code",
   "execution_count": 9,
   "metadata": {},
   "outputs": [
    {
     "name": "stdout",
     "output_type": "stream",
     "text": [
      "12\n",
      "O número 12 é um inteiro\n"
     ]
    }
   ],
   "source": [
    "import re\n",
    "x = input()\n",
    "if re.match('\\d+', x):\n",
    "    numero = int(x)\n",
    "    print(\"O número {} é um inteiro\".format(numero))\n",
    "else:\n",
    "    print(\"A entrada {} não é um inteiro\".format(x))"
   ]
  },
  {
   "cell_type": "code",
   "execution_count": 11,
   "metadata": {},
   "outputs": [
    {
     "name": "stdout",
     "output_type": "stream",
     "text": [
      "2.563\n",
      "O número 2.563 é um real\n"
     ]
    }
   ],
   "source": [
    "x = input()\n",
    "try:\n",
    "    numero = float(x)\n",
    "except ValueError:\n",
    "    print(\"A entrada {} não é um número real\".format(x))\n",
    "else:\n",
    "    print(\"O número {} é um real\".format(numero))"
   ]
  },
  {
   "cell_type": "code",
   "execution_count": 12,
   "metadata": {},
   "outputs": [
    {
     "name": "stdout",
     "output_type": "stream",
     "text": [
      "0.088\n",
      "O número introduzido é positivo\n"
     ]
    }
   ],
   "source": [
    "x = input()\n",
    "try:\n",
    "    numero = float(x)\n",
    "except ValueError:\n",
    "    print(\"A entrada {} não é um número válido\".format(x))\n",
    "else:\n",
    "    if numero == 0:\n",
    "        print(\"O número introduzido é zero\")\n",
    "    elif numero < 0:\n",
    "        print(\"O número introduzido é negativo\")\n",
    "    else:\n",
    "        print(\"O número introduzido é positivo\")"
   ]
  },
  {
   "cell_type": "code",
   "execution_count": 13,
   "metadata": {},
   "outputs": [
    {
     "name": "stdout",
     "output_type": "stream",
     "text": [
      "53\n",
      "O número 53 é um ímpar\n"
     ]
    }
   ],
   "source": [
    "x = input()\n",
    "try:\n",
    "    numero = int(x)\n",
    "except ValueError:\n",
    "    print(\"Número inválido: tem que ser um número inteiro\")\n",
    "else:\n",
    "    quociente, resto = divmod(numero, 2)\n",
    "    if resto == 0:\n",
    "        print(\"O número {} é um par\".format(numero))\n",
    "    else:\n",
    "        print(\"O número {} é um ímpar\".format(numero))"
   ]
  },
  {
   "cell_type": "code",
   "execution_count": 14,
   "metadata": {},
   "outputs": [
    {
     "name": "stdout",
     "output_type": "stream",
     "text": [
      "2001-02-14\n",
      "Tem 19 anos.\n"
     ]
    }
   ],
   "source": [
    "from datetime import date, datetime\n",
    "today = date.today()\n",
    "\n",
    "data_nascimento = input()\n",
    "try:\n",
    "    nascimento = datetime.strptime(data_nascimento, \"%Y-%m-%d\").date()\n",
    "except ValueError:\n",
    "    print(\"Data inválida. Escreva uma data na forma: AAAA-MM-DD\")\n",
    "else:\n",
    "    anos = today.year - nascimento.year\n",
    "    # a idade exacta depedende se já celebrou o aniversário este ano\n",
    "    if ((today.month, today.day) < (nascimento.month, nascimento.day)):\n",
    "        anos = anos - 1\n",
    "    print(\"Tem {} anos.\".format(anos))"
   ]
  },
  {
   "cell_type": "code",
   "execution_count": 15,
   "metadata": {},
   "outputs": [
    {
     "name": "stdout",
     "output_type": "stream",
     "text": [
      "Manelito\n",
      "Válido\n"
     ]
    }
   ],
   "source": [
    "nome = input()\n",
    "if nome.find(' ') == -1:\n",
    "    print(\"Válido\")\n",
    "else:\n",
    "    print(\"Inválido\")"
   ]
  },
  {
   "cell_type": "markdown",
   "metadata": {},
   "source": [
    "# Estruturas cíclicas: for"
   ]
  },
  {
   "cell_type": "markdown",
   "metadata": {},
   "source": [
    "1. Use um ciclo for para mostrar o nome dos concelhos do dicionário populacao."
   ]
  },
  {
   "cell_type": "code",
   "execution_count": 19,
   "metadata": {},
   "outputs": [],
   "source": [
    "import numpy as np\n",
    "populacao = { \"Amares\": 19853, \"Barcelos\": 124555, \"Braga\": 176154, \"Cabeceiras de Basto\": 17635, \"Celorico de Basto\": 19767, \"Esposende\": 35552, \"Fafe\": 53600, \"Guimarães\": 162636, \"Póvoa de Lanhoso\": 24230, \"Terras de Bouro\": 7506, \"Vieira do Minho\": 14077, \"Vila Nova de Famalicão\": 134969, \"Vila Verde\": 49171, \"Vizela\": 24477 }\n",
    "vel = np.array([ 50, 50, 70, 90, 120 ])"
   ]
  },
  {
   "cell_type": "code",
   "execution_count": 20,
   "metadata": {},
   "outputs": [
    {
     "name": "stdout",
     "output_type": "stream",
     "text": [
      "Amares\n",
      "Barcelos\n",
      "Braga\n",
      "Cabeceiras de Basto\n",
      "Celorico de Basto\n",
      "Esposende\n",
      "Fafe\n",
      "Guimarães\n",
      "Póvoa de Lanhoso\n",
      "Terras de Bouro\n",
      "Vieira do Minho\n",
      "Vila Nova de Famalicão\n",
      "Vila Verde\n",
      "Vizela\n"
     ]
    }
   ],
   "source": [
    "for c in populacao:\n",
    "    print(c)"
   ]
  },
  {
   "cell_type": "markdown",
   "metadata": {},
   "source": [
    "1. Use o mesmo ciclo for e mostre apenas os concelhos do dicionário populacao que têm mais de 50 000 habitantes"
   ]
  },
  {
   "cell_type": "code",
   "execution_count": 21,
   "metadata": {},
   "outputs": [
    {
     "name": "stdout",
     "output_type": "stream",
     "text": [
      "Barcelos\n",
      "Braga\n",
      "Fafe\n",
      "Guimarães\n",
      "Vila Nova de Famalicão\n"
     ]
    }
   ],
   "source": [
    "for c in populacao:\n",
    "    if (populacao[c] > 50000):\n",
    "        print(c)"
   ]
  },
  {
   "cell_type": "markdown",
   "metadata": {},
   "source": [
    "1. Use um ciclo for para calcular a média das velocidades do vetor vel."
   ]
  },
  {
   "cell_type": "code",
   "execution_count": 23,
   "metadata": {},
   "outputs": [
    {
     "data": {
      "text/plain": [
       "76.0"
      ]
     },
     "execution_count": 23,
     "metadata": {},
     "output_type": "execute_result"
    }
   ],
   "source": [
    "vel.mean()"
   ]
  },
  {
   "cell_type": "markdown",
   "metadata": {},
   "source": [
    "1. Use um ciclo for para calcular a velocidade máxima que consta do vetor vel."
   ]
  },
  {
   "cell_type": "code",
   "execution_count": 24,
   "metadata": {},
   "outputs": [
    {
     "data": {
      "text/plain": [
       "120"
      ]
     },
     "execution_count": 24,
     "metadata": {},
     "output_type": "execute_result"
    }
   ],
   "source": [
    "vel.max()"
   ]
  },
  {
   "cell_type": "markdown",
   "metadata": {},
   "source": [
    "# Estruturas cíclicas: while"
   ]
  },
  {
   "cell_type": "markdown",
   "metadata": {},
   "source": [
    "1. Use um ciclo while para percorrer o dicionário populacao e mostrar os concelhos que seriam precisos para juntar no mínimo 200 000 habitantes."
   ]
  },
  {
   "cell_type": "code",
   "execution_count": 25,
   "metadata": {},
   "outputs": [
    {
     "name": "stdout",
     "output_type": "stream",
     "text": [
      "Amares 19853\n",
      "Amares,Barcelos 144408\n",
      "Amares,Barcelos,Braga 320562\n"
     ]
    }
   ],
   "source": [
    "soma = 0\n",
    "concelhos = []\n",
    "# vamos removendo os concelhos do dicionário à medida que vamos somando a população\n",
    "while populacao and soma < 200000:\n",
    "    x = next(x for x in populacao)\n",
    "    soma = soma + populacao[x]\n",
    "    concelhos.append(x)\n",
    "    print(','.join(concelhos), soma)\n",
    "    populacao.pop(x)"
   ]
  },
  {
   "cell_type": "code",
   "execution_count": 26,
   "metadata": {},
   "outputs": [
    {
     "name": "stdout",
     "output_type": "stream",
     "text": [
      "320562\n"
     ]
    }
   ],
   "source": [
    "# Com um ciclo for, usando o break para sair do ciclo\n",
    "# Abordagem mais simples do que usando um ciclo while\n",
    "# Não destroi o dicionário original populacao\n",
    "populacao = { \"Amares\": 19853, \"Barcelos\": 124555, \"Braga\": 176154, \"Cabeceiras de Basto\": 17635, \"Celorico de Basto\": 19767, \"Esposende\": 35552, \"Fafe\": 53600, \"Guimarães\": 162636, \"Póvoa de Lanhoso\": 24230, \"Terras de Bouro\": 7506, \"Vieira do Minho\": 14077, \"Vila Nova de Famalicão\": 134969, \"Vila Verde\": 49171, \"Vizela\": 24477 }\n",
    "\n",
    "soma = 0\n",
    "for x in populacao:\n",
    "    soma = soma + populacao[x]\n",
    "    if soma > 200000:\n",
    "        break\n",
    "print(soma)"
   ]
  },
  {
   "cell_type": "markdown",
   "metadata": {},
   "source": [
    "1. Use um ciclo while para percorrer o dicionário populacao e mostrar os três primeiros concelhos que tenham o nome formado por mais do que uma palavra (como \"Cabeceiras de Basto\", por exemplo."
   ]
  },
  {
   "cell_type": "code",
   "execution_count": 27,
   "metadata": {},
   "outputs": [
    {
     "name": "stdout",
     "output_type": "stream",
     "text": [
      "Cabeceiras de Basto,Celorico de Basto,Póvoa de Lanhoso\n"
     ]
    }
   ],
   "source": [
    "concelhos = []\n",
    "# vamos removendo os concelhos do dicionário que vão sendo testados\n",
    "while populacao and len(concelhos) < 3:\n",
    "    x = next(x for x in populacao)\n",
    "    if (x.find(' ') != -1):\n",
    "        concelhos.append(x)\n",
    "    populacao.pop(x)\n",
    "print(','.join(concelhos))"
   ]
  },
  {
   "cell_type": "code",
   "execution_count": 28,
   "metadata": {},
   "outputs": [
    {
     "name": "stdout",
     "output_type": "stream",
     "text": [
      "Cabeceiras de Basto,Celorico de Basto,Póvoa de Lanhoso\n"
     ]
    }
   ],
   "source": [
    "# Com um ciclo for, usando o break para sair do ciclo\n",
    "# Abordagem mais simples do que usando um ciclo while\n",
    "# Não destroi o dicionário original populacao\n",
    "populacao = { \"Amares\": 19853, \"Barcelos\": 124555, \"Braga\": 176154, \"Cabeceiras de Basto\": 17635, \"Celorico de Basto\": 19767, \"Esposende\": 35552, \"Fafe\": 53600, \"Guimarães\": 162636, \"Póvoa de Lanhoso\": 24230, \"Terras de Bouro\": 7506, \"Vieira do Minho\": 14077, \"Vila Nova de Famalicão\": 134969, \"Vila Verde\": 49171, \"Vizela\": 24477 }\n",
    "\n",
    "concelhos = []\n",
    "for x in populacao:\n",
    "    if (x.find(' ') != -1):\n",
    "        concelhos.append(x)\n",
    "    if len(concelhos) == 3:\n",
    "        break\n",
    "print(','.join(concelhos))"
   ]
  },
  {
   "cell_type": "code",
   "execution_count": null,
   "metadata": {},
   "outputs": [],
   "source": []
  }
 ],
 "metadata": {
  "kernelspec": {
   "display_name": "Python 3",
   "language": "python",
   "name": "python3"
  },
  "language_info": {
   "codemirror_mode": {
    "name": "ipython",
    "version": 3
   },
   "file_extension": ".py",
   "mimetype": "text/x-python",
   "name": "python",
   "nbconvert_exporter": "python",
   "pygments_lexer": "ipython3",
   "version": "3.7.6"
  }
 },
 "nbformat": 4,
 "nbformat_minor": 4
}
