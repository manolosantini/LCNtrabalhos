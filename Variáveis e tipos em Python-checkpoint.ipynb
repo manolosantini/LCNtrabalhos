{
 "cells": [
  {
   "cell_type": "markdown",
   "metadata": {},
   "source": [
    "# Variáveis e tipos em Python"
   ]
  },
  {
   "cell_type": "markdown",
   "metadata": {},
   "source": [
    "# Variáveis"
   ]
  },
  {
   "cell_type": "markdown",
   "metadata": {},
   "source": [
    "As variáveis são usadas para guardar dados, para posterior utilização. No exemplo seguinte definem-se duas variáveis g e nomeque posteriormente são usadas na função print()."
   ]
  },
  {
   "cell_type": "code",
   "execution_count": null,
   "metadata": {},
   "outputs": [],
   "source": [
    "g = 9.8\n",
    "nome = 'Galileu Galilei'\n",
    "print( \"A aceleração da gravidade é {} m/s^2 e já era do conhecimento do {}\".format( g, nome ))"
   ]
  },
  {
   "cell_type": "markdown",
   "metadata": {},
   "source": [
    "# Nomes das variáveis"
   ]
  },
  {
   "cell_type": "markdown",
   "metadata": {},
   "source": [
    "1. As variáveis têm que começar com uma letra ou _. Não podem começar com algarismos.\n",
    "2. As variáveis só podem conter letras, algarismos e _. Boa notícia para os portugueses: as letras acentuadas são aceites.\n",
    "3. As letras maiúsculas são diferentes das minúsculas. Por isso, as variáveis nome, Nome e NOME são todas diferentes."
   ]
  },
  {
   "cell_type": "markdown",
   "metadata": {},
   "source": [
    "Exercício:\n",
    "\n",
    "Complete o código seguinte, de forma a provar que as duas variáveis são diferentes (por diferirem em maiúsculas e minúsculas)."
   ]
  },
  {
   "cell_type": "code",
   "execution_count": 9,
   "metadata": {},
   "outputs": [],
   "source": [
    "nome = 'Manuel'\n",
    "Nome = 'Maria'"
   ]
  },
  {
   "cell_type": "markdown",
   "metadata": {},
   "source": [
    "# Atribuição"
   ]
  },
  {
   "cell_type": "markdown",
   "metadata": {},
   "source": [
    "A atribuição de uma valor a uma variável, como já se viu, na sua forma mais simples é:\n",
    "\n",
    "g = 9.8\n",
    "Como usamos o símbolo = para atribuir valores a variáveis, para comparar dois valores, temos que usar um símbolo diferente, que é o ==. Ou seja, as seguintes expressões são completamente diferentes:\n",
    "\n",
    "g = 9.8\n",
    "g == 9.8\n",
    "A expressão g == 9.8 dá sempre um resultado booleano (True ou False).\n",
    "\n",
    "Em Python, pode-se fazer várias atribuições numa só linha. Por exemplo:"
   ]
  },
  {
   "cell_type": "code",
   "execution_count": 11,
   "metadata": {},
   "outputs": [
    {
     "name": "stdout",
     "output_type": "stream",
     "text": [
      "Pode-se formar qualquer cor juntando: Vermelho, Verde e Azul\n"
     ]
    }
   ],
   "source": [
    "r, g, b = \"Vermelho\", \"Verde\", \"Azul\"\n",
    "print(\"Pode-se formar qualquer cor juntando: {}, {} e {}\".format( r, g, b) )"
   ]
  },
  {
   "cell_type": "markdown",
   "metadata": {},
   "source": [
    "Pode-se, também, atribuir o mesmo valor a várias variáveis."
   ]
  },
  {
   "cell_type": "code",
   "execution_count": 13,
   "metadata": {},
   "outputs": [
    {
     "name": "stdout",
     "output_type": "stream",
     "text": [
      "1 1 1\n"
     ]
    }
   ],
   "source": [
    "i = k = j = 1\n",
    "print(i, j, k)"
   ]
  },
  {
   "cell_type": "markdown",
   "metadata": {},
   "source": [
    "#### Exercício:\n",
    "Use a função predefinida divmod para calcular o quociente e o resto da divisão de 17 por 5.\n",
    "\n",
    "Nota: A função divmod() retorna um tuple (um par)."
   ]
  },
  {
   "cell_type": "code",
   "execution_count": 14,
   "metadata": {},
   "outputs": [
    {
     "data": {
      "text/plain": [
       "(3, 2)"
      ]
     },
     "execution_count": 14,
     "metadata": {},
     "output_type": "execute_result"
    }
   ],
   "source": [
    "divmod(17,5)"
   ]
  },
  {
   "cell_type": "code",
   "execution_count": null,
   "metadata": {},
   "outputs": [],
   "source": []
  }
 ],
 "metadata": {
  "kernelspec": {
   "display_name": "Python 3",
   "language": "python",
   "name": "python3"
  },
  "language_info": {
   "codemirror_mode": {
    "name": "ipython",
    "version": 3
   },
   "file_extension": ".py",
   "mimetype": "text/x-python",
   "name": "python",
   "nbconvert_exporter": "python",
   "pygments_lexer": "ipython3",
   "version": "3.7.6"
  }
 },
 "nbformat": 4,
 "nbformat_minor": 4
}
