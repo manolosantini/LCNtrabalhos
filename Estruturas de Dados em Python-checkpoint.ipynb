{
 "cells": [
  {
   "cell_type": "markdown",
   "metadata": {},
   "source": [
    "# Estruturas de Dados em Python"
   ]
  },
  {
   "cell_type": "markdown",
   "metadata": {},
   "source": [
    "# Exercícios de listas"
   ]
  },
  {
   "cell_type": "code",
   "execution_count": 2,
   "metadata": {},
   "outputs": [],
   "source": [
    "concelhos = [ \"Amares\", \"Barcelos\", \"Braga\", \"Cabeceiras de Basto\", \"Celorico de Basto\", \"Esposende\", \"Fafe\", \"Guimarães\", \"Póvoa de Lanhoso\", \"Terras de Bouro\", \"Vieira do Minho\", \"Vila Nova de Famalicão\", \"Vila Verde\", \"Vizela\" ]"
   ]
  },
  {
   "cell_type": "markdown",
   "metadata": {},
   "source": [
    "1. Calcule o números de elementos da lista."
   ]
  },
  {
   "cell_type": "code",
   "execution_count": 4,
   "metadata": {},
   "outputs": [
    {
     "data": {
      "text/plain": [
       "14"
      ]
     },
     "execution_count": 4,
     "metadata": {},
     "output_type": "execute_result"
    }
   ],
   "source": [
    "len(concelhos)"
   ]
  },
  {
   "cell_type": "markdown",
   "metadata": {},
   "source": [
    "2. Calcule o primeiro elemento da lista."
   ]
  },
  {
   "cell_type": "code",
   "execution_count": 6,
   "metadata": {},
   "outputs": [
    {
     "data": {
      "text/plain": [
       "'Amares'"
      ]
     },
     "execution_count": 6,
     "metadata": {},
     "output_type": "execute_result"
    }
   ],
   "source": [
    "concelhos[0]"
   ]
  },
  {
   "cell_type": "markdown",
   "metadata": {},
   "source": [
    "3. A partir da lista inicial, crie um nova lista, com a apenas o primeiro e o último elemento da lista."
   ]
  },
  {
   "cell_type": "code",
   "execution_count": 7,
   "metadata": {},
   "outputs": [
    {
     "data": {
      "text/plain": [
       "('Amares', 'Vizela')"
      ]
     },
     "execution_count": 7,
     "metadata": {},
     "output_type": "execute_result"
    }
   ],
   "source": [
    "(concelhos[0], concelhos[-1])"
   ]
  },
  {
   "cell_type": "markdown",
   "metadata": {},
   "source": [
    "4. Para ordenar listas, pode usar duas funções diferentes: list.sort() e sorted(). Escreva dois exemplos, com cada uma das funções, para mostrar as diferenças. Veja também como se usa o parâmetro reverse=True nestas duas funções."
   ]
  },
  {
   "cell_type": "code",
   "execution_count": 8,
   "metadata": {},
   "outputs": [
    {
     "data": {
      "text/plain": [
       "['Amares',\n",
       " 'Barcelos',\n",
       " 'Braga',\n",
       " 'Cabeceiras de Basto',\n",
       " 'Celorico de Basto',\n",
       " 'Esposende',\n",
       " 'Fafe',\n",
       " 'Guimarães',\n",
       " 'Póvoa de Lanhoso',\n",
       " 'Terras de Bouro',\n",
       " 'Vieira do Minho',\n",
       " 'Vila Nova de Famalicão',\n",
       " 'Vila Verde',\n",
       " 'Vizela']"
      ]
     },
     "execution_count": 8,
     "metadata": {},
     "output_type": "execute_result"
    }
   ],
   "source": [
    "sorted(concelhos)"
   ]
  },
  {
   "cell_type": "code",
   "execution_count": 13,
   "metadata": {},
   "outputs": [
    {
     "data": {
      "text/plain": [
       "['Vizela',\n",
       " 'Vila Verde',\n",
       " 'Vila Nova de Famalicão',\n",
       " 'Vieira do Minho',\n",
       " 'Terras de Bouro',\n",
       " 'Póvoa de Lanhoso',\n",
       " 'Guimarães',\n",
       " 'Fafe',\n",
       " 'Esposende',\n",
       " 'Celorico de Basto',\n",
       " 'Cabeceiras de Basto',\n",
       " 'Braga',\n",
       " 'Barcelos',\n",
       " 'Amares']"
      ]
     },
     "execution_count": 13,
     "metadata": {},
     "output_type": "execute_result"
    }
   ],
   "source": [
    "sorted(concelhos, reverse=True)"
   ]
  },
  {
   "cell_type": "markdown",
   "metadata": {},
   "source": [
    "As listas podem ser ordenadas usando o resultado de uma função. No exemplo seguinte ordena-se a lista de concelhos, aplicando a funçao len() a cada concelho. A função len() calcula o tamanho de uma string."
   ]
  },
  {
   "cell_type": "code",
   "execution_count": 14,
   "metadata": {},
   "outputs": [
    {
     "data": {
      "text/plain": [
       "['Fafe',\n",
       " 'Braga',\n",
       " 'Amares',\n",
       " 'Vizela',\n",
       " 'Barcelos',\n",
       " 'Esposende',\n",
       " 'Guimarães',\n",
       " 'Vila Verde',\n",
       " 'Terras de Bouro',\n",
       " 'Vieira do Minho',\n",
       " 'Póvoa de Lanhoso',\n",
       " 'Celorico de Basto',\n",
       " 'Cabeceiras de Basto',\n",
       " 'Vila Nova de Famalicão']"
      ]
     },
     "execution_count": 14,
     "metadata": {},
     "output_type": "execute_result"
    }
   ],
   "source": [
    "sorted(concelhos, key=len)"
   ]
  },
  {
   "cell_type": "markdown",
   "metadata": {},
   "source": [
    "# O método list.sort()"
   ]
  },
  {
   "cell_type": "markdown",
   "metadata": {},
   "source": [
    "O método sort() da classe list modifica a própria lista. Não devolve uma nova lista. Ou seja, a lista passa a ficar armazenada com a ordenação imposta por list.sort()."
   ]
  },
  {
   "cell_type": "code",
   "execution_count": 16,
   "metadata": {},
   "outputs": [
    {
     "name": "stdout",
     "output_type": "stream",
     "text": [
      "['Vizela', 'Vila Verde', 'Vila Nova de Famalicão', 'Vieira do Minho', 'Terras de Bouro', 'Póvoa de Lanhoso', 'Guimarães', 'Fafe', 'Esposende', 'Celorico de Basto', 'Cabeceiras de Basto', 'Braga', 'Barcelos', 'Amares']\n"
     ]
    }
   ],
   "source": [
    "list.sort(concelhos, reverse=True)\n",
    "print(concelhos)"
   ]
  },
  {
   "cell_type": "markdown",
   "metadata": {},
   "source": [
    "# Exercícios com dicionários"
   ]
  },
  {
   "cell_type": "code",
   "execution_count": 17,
   "metadata": {},
   "outputs": [],
   "source": [
    "populacao = { \"Amares\": 19853, \"Barcelos\": 124555, \"Braga\": 176154, \"Cabeceiras de Basto\": 17635, \"Celorico de Basto\": 19767, \"Esposende\": 35552, \"Fafe\": 53600, \"Guimarães\": 162636, \"Póvoa de Lanhoso\": 24230, \"Terras de Bouro\": 7506, \"Vieira do Minho\": 14077, \"Vila Nova de Famalicão\": 134969, \"Vila Verde\": 49171, \"Vizela\": 24477 }"
   ]
  },
  {
   "cell_type": "markdown",
   "metadata": {},
   "source": [
    "1. Escreva a expressão que nos dá a polulação de Vizela"
   ]
  },
  {
   "cell_type": "code",
   "execution_count": 20,
   "metadata": {},
   "outputs": [
    {
     "data": {
      "text/plain": [
       "24477"
      ]
     },
     "execution_count": 20,
     "metadata": {},
     "output_type": "execute_result"
    }
   ],
   "source": [
    "populacao[\"Vizela\"]"
   ]
  },
  {
   "cell_type": "markdown",
   "metadata": {},
   "source": [
    "2. Diga qual é o concelho mais populoso"
   ]
  },
  {
   "cell_type": "code",
   "execution_count": 24,
   "metadata": {},
   "outputs": [
    {
     "data": {
      "text/plain": [
       "'Braga'"
      ]
     },
     "execution_count": 24,
     "metadata": {},
     "output_type": "execute_result"
    }
   ],
   "source": [
    "max(populacao, key=populacao.get)"
   ]
  },
  {
   "cell_type": "markdown",
   "metadata": {},
   "source": [
    "3. Diga qual é a soma da população de todos os concelhos"
   ]
  },
  {
   "cell_type": "code",
   "execution_count": 26,
   "metadata": {},
   "outputs": [
    {
     "data": {
      "text/plain": [
       "864182"
      ]
     },
     "execution_count": 26,
     "metadata": {},
     "output_type": "execute_result"
    }
   ],
   "source": [
    "sum(populacao.values())"
   ]
  },
  {
   "cell_type": "markdown",
   "metadata": {},
   "source": [
    "4. Imprima os concelhos e respetiva população por ordem descrescente de população"
   ]
  },
  {
   "cell_type": "code",
   "execution_count": 27,
   "metadata": {},
   "outputs": [
    {
     "data": {
      "text/plain": [
       "[('Braga', 176154),\n",
       " ('Guimarães', 162636),\n",
       " ('Vila Nova de Famalicão', 134969),\n",
       " ('Barcelos', 124555),\n",
       " ('Fafe', 53600),\n",
       " ('Vila Verde', 49171),\n",
       " ('Esposende', 35552),\n",
       " ('Vizela', 24477),\n",
       " ('Póvoa de Lanhoso', 24230),\n",
       " ('Amares', 19853),\n",
       " ('Celorico de Basto', 19767),\n",
       " ('Cabeceiras de Basto', 17635),\n",
       " ('Vieira do Minho', 14077),\n",
       " ('Terras de Bouro', 7506)]"
      ]
     },
     "execution_count": 27,
     "metadata": {},
     "output_type": "execute_result"
    }
   ],
   "source": [
    "# forma alternativa, usando uma função lambda (função sem nome) que ordena em função do valor do dicionário\n",
    "sorted(populacao.items(), reverse=True, key=lambda item: item[1])"
   ]
  },
  {
   "cell_type": "markdown",
   "metadata": {},
   "source": [
    "# Exercícios com arrays"
   ]
  },
  {
   "cell_type": "code",
   "execution_count": 28,
   "metadata": {},
   "outputs": [],
   "source": [
    "import numpy as np\n",
    "vel = np.array([ 50, 50, 70, 90, 120 ])\n",
    "np.random.seed(0)\n",
    "notas = np.random.randint(100, size=10)"
   ]
  },
  {
   "cell_type": "markdown",
   "metadata": {},
   "source": [
    "1. Calcule a médias das velocidades registadas no vetor vel\n",
    "2. Calcule a velocidade mínima no vetor vel\n",
    "3. Crie um vetor com 10 elementos, com números aleatórios entre -10 e 10."
   ]
  },
  {
   "cell_type": "code",
   "execution_count": 31,
   "metadata": {},
   "outputs": [
    {
     "data": {
      "text/plain": [
       "76.0"
      ]
     },
     "execution_count": 31,
     "metadata": {},
     "output_type": "execute_result"
    }
   ],
   "source": [
    "np.mean(vel)"
   ]
  },
  {
   "cell_type": "code",
   "execution_count": 32,
   "metadata": {},
   "outputs": [
    {
     "data": {
      "text/plain": [
       "50"
      ]
     },
     "execution_count": 32,
     "metadata": {},
     "output_type": "execute_result"
    }
   ],
   "source": [
    "np.min(vel)"
   ]
  },
  {
   "cell_type": "code",
   "execution_count": 35,
   "metadata": {},
   "outputs": [
    {
     "data": {
      "text/plain": [
       "array([ -7,   7,   9,   9,   9,   4,  -3, -10,  -9,  -1])"
      ]
     },
     "execution_count": 35,
     "metadata": {},
     "output_type": "execute_result"
    }
   ],
   "source": [
    "np.random.randint(-10, 11, 10)"
   ]
  }
 ],
 "metadata": {
  "kernelspec": {
   "display_name": "Python 3",
   "language": "python",
   "name": "python3"
  },
  "language_info": {
   "codemirror_mode": {
    "name": "ipython",
    "version": 3
   },
   "file_extension": ".py",
   "mimetype": "text/x-python",
   "name": "python",
   "nbconvert_exporter": "python",
   "pygments_lexer": "ipython3",
   "version": "3.7.6"
  }
 },
 "nbformat": 4,
 "nbformat_minor": 4
}
